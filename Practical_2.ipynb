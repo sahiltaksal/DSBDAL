{
 "cells": [
  {
   "cell_type": "code",
   "execution_count": 1,
   "id": "8701c89d-b1c4-4968-9a88-880ebaa6fbe1",
   "metadata": {},
   "outputs": [],
   "source": [
    "import pandas as pd"
   ]
  },
  {
   "cell_type": "code",
   "execution_count": 2,
   "id": "1edc43f0-8110-453f-903a-3bf00210551d",
   "metadata": {},
   "outputs": [
    {
     "name": "stdout",
     "output_type": "stream",
     "text": [
      "    Math_Score Reading_Score  Writing_Score  Placement_Score  Club_Join_Date  \\\n",
      "0           75            90           80.0             79.0          2024.0   \n",
      "1           67            92           60.0             75.0          2023.0   \n",
      "2           62            75           61.0             75.0          2022.0   \n",
      "3           64            77           73.0             91.0          2022.0   \n",
      "4           76            85           79.0             75.0          2024.0   \n",
      "5           72            92           77.0             90.0          2025.0   \n",
      "6           77            aa           76.0             95.0          2022.0   \n",
      "7           78            79           71.0             78.0          2025.0   \n",
      "8           62            81           80.0             83.0          2022.0   \n",
      "9           74            84           68.0             77.0          2026.0   \n",
      "10          76            75          200.0             80.0          2022.0   \n",
      "11          78            89           63.0             84.0          2022.0   \n",
      "12          66            76           68.0             86.0          2026.0   \n",
      "13          60            83           62.0            100.0          2022.0   \n",
      "14          76            92           78.0             94.0          2023.0   \n",
      "15          62            79           60.0             76.0          2025.0   \n",
      "16          71            81           75.0             82.0          2026.0   \n",
      "17          73            81           61.0             98.0          2025.0   \n",
      "18          60            77           67.0             95.0          2024.0   \n",
      "19          79            92           70.0             85.0          2022.0   \n",
      "20          75            79           75.0             83.0          2026.0   \n",
      "21          73            86           66.0             98.0          2025.0   \n",
      "22          78            90           70.0             97.0          2026.0   \n",
      "23          60            91           75.0             93.0          2026.0   \n",
      "24          63            91           63.0             99.0          2025.0   \n",
      "25          72            81           65.0             97.0          2023.0   \n",
      "26          76            82           77.0             81.0          2025.0   \n",
      "27          76            84           79.0             89.0          2024.0   \n",
      "28          71           NaN            NaN              NaN             NaN   \n",
      "\n",
      "    placement_count  \n",
      "0               2.0  \n",
      "1               2.0  \n",
      "2               2.0  \n",
      "3               3.0  \n",
      "4               2.0  \n",
      "5               3.0  \n",
      "6               3.0  \n",
      "7               2.0  \n",
      "8               2.0  \n",
      "9               2.0  \n",
      "10              2.0  \n",
      "11              2.0  \n",
      "12              3.0  \n",
      "13              3.0  \n",
      "14              3.0  \n",
      "15              2.0  \n",
      "16              2.0  \n",
      "17              3.0  \n",
      "18              3.0  \n",
      "19              3.0  \n",
      "20              2.0  \n",
      "21              3.0  \n",
      "22              3.0  \n",
      "23              3.0  \n",
      "24              3.0  \n",
      "25              3.0  \n",
      "26              2.0  \n",
      "27              3.0  \n",
      "28              NaN  \n"
     ]
    }
   ],
   "source": [
    "dt1=pd.read_csv(\"Student.csv\")\n",
    "print(dt1)"
   ]
  },
  {
   "cell_type": "code",
   "execution_count": 3,
   "id": "63594fbb-3f2a-4929-a19c-0c414db4bf2b",
   "metadata": {},
   "outputs": [
    {
     "data": {
      "text/html": [
       "<div>\n",
       "<style scoped>\n",
       "    .dataframe tbody tr th:only-of-type {\n",
       "        vertical-align: middle;\n",
       "    }\n",
       "\n",
       "    .dataframe tbody tr th {\n",
       "        vertical-align: top;\n",
       "    }\n",
       "\n",
       "    .dataframe thead th {\n",
       "        text-align: right;\n",
       "    }\n",
       "</style>\n",
       "<table border=\"1\" class=\"dataframe\">\n",
       "  <thead>\n",
       "    <tr style=\"text-align: right;\">\n",
       "      <th></th>\n",
       "      <th>Math_Score</th>\n",
       "      <th>Writing_Score</th>\n",
       "      <th>Placement_Score</th>\n",
       "      <th>Club_Join_Date</th>\n",
       "      <th>placement_count</th>\n",
       "    </tr>\n",
       "  </thead>\n",
       "  <tbody>\n",
       "    <tr>\n",
       "      <th>count</th>\n",
       "      <td>29.000000</td>\n",
       "      <td>28.000000</td>\n",
       "      <td>28.000000</td>\n",
       "      <td>28.000000</td>\n",
       "      <td>28.000000</td>\n",
       "    </tr>\n",
       "    <tr>\n",
       "      <th>mean</th>\n",
       "      <td>70.758621</td>\n",
       "      <td>74.964286</td>\n",
       "      <td>86.964286</td>\n",
       "      <td>2024.000000</td>\n",
       "      <td>2.535714</td>\n",
       "    </tr>\n",
       "    <tr>\n",
       "      <th>std</th>\n",
       "      <td>6.495356</td>\n",
       "      <td>25.412861</td>\n",
       "      <td>8.500467</td>\n",
       "      <td>1.563472</td>\n",
       "      <td>0.507875</td>\n",
       "    </tr>\n",
       "    <tr>\n",
       "      <th>min</th>\n",
       "      <td>60.000000</td>\n",
       "      <td>60.000000</td>\n",
       "      <td>75.000000</td>\n",
       "      <td>2022.000000</td>\n",
       "      <td>2.000000</td>\n",
       "    </tr>\n",
       "    <tr>\n",
       "      <th>25%</th>\n",
       "      <td>64.000000</td>\n",
       "      <td>64.500000</td>\n",
       "      <td>79.750000</td>\n",
       "      <td>2022.000000</td>\n",
       "      <td>2.000000</td>\n",
       "    </tr>\n",
       "    <tr>\n",
       "      <th>50%</th>\n",
       "      <td>73.000000</td>\n",
       "      <td>70.500000</td>\n",
       "      <td>85.500000</td>\n",
       "      <td>2024.000000</td>\n",
       "      <td>3.000000</td>\n",
       "    </tr>\n",
       "    <tr>\n",
       "      <th>75%</th>\n",
       "      <td>76.000000</td>\n",
       "      <td>77.000000</td>\n",
       "      <td>95.000000</td>\n",
       "      <td>2025.000000</td>\n",
       "      <td>3.000000</td>\n",
       "    </tr>\n",
       "    <tr>\n",
       "      <th>max</th>\n",
       "      <td>79.000000</td>\n",
       "      <td>200.000000</td>\n",
       "      <td>100.000000</td>\n",
       "      <td>2026.000000</td>\n",
       "      <td>3.000000</td>\n",
       "    </tr>\n",
       "  </tbody>\n",
       "</table>\n",
       "</div>"
      ],
      "text/plain": [
       "       Math_Score  Writing_Score  Placement_Score  Club_Join_Date  \\\n",
       "count   29.000000      28.000000        28.000000       28.000000   \n",
       "mean    70.758621      74.964286        86.964286     2024.000000   \n",
       "std      6.495356      25.412861         8.500467        1.563472   \n",
       "min     60.000000      60.000000        75.000000     2022.000000   \n",
       "25%     64.000000      64.500000        79.750000     2022.000000   \n",
       "50%     73.000000      70.500000        85.500000     2024.000000   \n",
       "75%     76.000000      77.000000        95.000000     2025.000000   \n",
       "max     79.000000     200.000000       100.000000     2026.000000   \n",
       "\n",
       "       placement_count  \n",
       "count        28.000000  \n",
       "mean          2.535714  \n",
       "std           0.507875  \n",
       "min           2.000000  \n",
       "25%           2.000000  \n",
       "50%           3.000000  \n",
       "75%           3.000000  \n",
       "max           3.000000  "
      ]
     },
     "execution_count": 3,
     "metadata": {},
     "output_type": "execute_result"
    }
   ],
   "source": [
    "dt1.describe()"
   ]
  },
  {
   "cell_type": "code",
   "execution_count": 4,
   "id": "941b52cb-8096-46b2-b9e0-4ee8f3faa5dc",
   "metadata": {},
   "outputs": [
    {
     "data": {
      "text/plain": [
       "<bound method NDFrame._add_numeric_operations.<locals>.sum of        Math_Score  Writing_Score  Placement_Score  Club_Join_Date  \\\n",
       "count   29.000000      28.000000        28.000000       28.000000   \n",
       "mean    70.758621      74.964286        86.964286     2024.000000   \n",
       "std      6.495356      25.412861         8.500467        1.563472   \n",
       "min     60.000000      60.000000        75.000000     2022.000000   \n",
       "25%     64.000000      64.500000        79.750000     2022.000000   \n",
       "50%     73.000000      70.500000        85.500000     2024.000000   \n",
       "75%     76.000000      77.000000        95.000000     2025.000000   \n",
       "max     79.000000     200.000000       100.000000     2026.000000   \n",
       "\n",
       "       placement_count  \n",
       "count        28.000000  \n",
       "mean          2.535714  \n",
       "std           0.507875  \n",
       "min           2.000000  \n",
       "25%           2.000000  \n",
       "50%           3.000000  \n",
       "75%           3.000000  \n",
       "max           3.000000  >"
      ]
     },
     "execution_count": 4,
     "metadata": {},
     "output_type": "execute_result"
    }
   ],
   "source": [
    "dt1.describe().sum"
   ]
  },
  {
   "cell_type": "code",
   "execution_count": 5,
   "id": "86cfb883-3389-4695-bee9-fcdade6aea8c",
   "metadata": {},
   "outputs": [
    {
     "data": {
      "text/html": [
       "<div>\n",
       "<style scoped>\n",
       "    .dataframe tbody tr th:only-of-type {\n",
       "        vertical-align: middle;\n",
       "    }\n",
       "\n",
       "    .dataframe tbody tr th {\n",
       "        vertical-align: top;\n",
       "    }\n",
       "\n",
       "    .dataframe thead th {\n",
       "        text-align: right;\n",
       "    }\n",
       "</style>\n",
       "<table border=\"1\" class=\"dataframe\">\n",
       "  <thead>\n",
       "    <tr style=\"text-align: right;\">\n",
       "      <th></th>\n",
       "      <th>Math_Score</th>\n",
       "      <th>Reading_Score</th>\n",
       "      <th>Writing_Score</th>\n",
       "      <th>Placement_Score</th>\n",
       "      <th>Club_Join_Date</th>\n",
       "      <th>placement_count</th>\n",
       "    </tr>\n",
       "  </thead>\n",
       "  <tbody>\n",
       "    <tr>\n",
       "      <th>0</th>\n",
       "      <td>False</td>\n",
       "      <td>False</td>\n",
       "      <td>False</td>\n",
       "      <td>False</td>\n",
       "      <td>False</td>\n",
       "      <td>False</td>\n",
       "    </tr>\n",
       "    <tr>\n",
       "      <th>1</th>\n",
       "      <td>False</td>\n",
       "      <td>False</td>\n",
       "      <td>False</td>\n",
       "      <td>False</td>\n",
       "      <td>False</td>\n",
       "      <td>False</td>\n",
       "    </tr>\n",
       "    <tr>\n",
       "      <th>2</th>\n",
       "      <td>False</td>\n",
       "      <td>False</td>\n",
       "      <td>False</td>\n",
       "      <td>False</td>\n",
       "      <td>False</td>\n",
       "      <td>False</td>\n",
       "    </tr>\n",
       "    <tr>\n",
       "      <th>3</th>\n",
       "      <td>False</td>\n",
       "      <td>False</td>\n",
       "      <td>False</td>\n",
       "      <td>False</td>\n",
       "      <td>False</td>\n",
       "      <td>False</td>\n",
       "    </tr>\n",
       "    <tr>\n",
       "      <th>4</th>\n",
       "      <td>False</td>\n",
       "      <td>False</td>\n",
       "      <td>False</td>\n",
       "      <td>False</td>\n",
       "      <td>False</td>\n",
       "      <td>False</td>\n",
       "    </tr>\n",
       "    <tr>\n",
       "      <th>5</th>\n",
       "      <td>False</td>\n",
       "      <td>False</td>\n",
       "      <td>False</td>\n",
       "      <td>False</td>\n",
       "      <td>False</td>\n",
       "      <td>False</td>\n",
       "    </tr>\n",
       "    <tr>\n",
       "      <th>6</th>\n",
       "      <td>False</td>\n",
       "      <td>False</td>\n",
       "      <td>False</td>\n",
       "      <td>False</td>\n",
       "      <td>False</td>\n",
       "      <td>False</td>\n",
       "    </tr>\n",
       "    <tr>\n",
       "      <th>7</th>\n",
       "      <td>False</td>\n",
       "      <td>False</td>\n",
       "      <td>False</td>\n",
       "      <td>False</td>\n",
       "      <td>False</td>\n",
       "      <td>False</td>\n",
       "    </tr>\n",
       "    <tr>\n",
       "      <th>8</th>\n",
       "      <td>False</td>\n",
       "      <td>False</td>\n",
       "      <td>False</td>\n",
       "      <td>False</td>\n",
       "      <td>False</td>\n",
       "      <td>False</td>\n",
       "    </tr>\n",
       "    <tr>\n",
       "      <th>9</th>\n",
       "      <td>False</td>\n",
       "      <td>False</td>\n",
       "      <td>False</td>\n",
       "      <td>False</td>\n",
       "      <td>False</td>\n",
       "      <td>False</td>\n",
       "    </tr>\n",
       "    <tr>\n",
       "      <th>10</th>\n",
       "      <td>False</td>\n",
       "      <td>False</td>\n",
       "      <td>False</td>\n",
       "      <td>False</td>\n",
       "      <td>False</td>\n",
       "      <td>False</td>\n",
       "    </tr>\n",
       "    <tr>\n",
       "      <th>11</th>\n",
       "      <td>False</td>\n",
       "      <td>False</td>\n",
       "      <td>False</td>\n",
       "      <td>False</td>\n",
       "      <td>False</td>\n",
       "      <td>False</td>\n",
       "    </tr>\n",
       "    <tr>\n",
       "      <th>12</th>\n",
       "      <td>False</td>\n",
       "      <td>False</td>\n",
       "      <td>False</td>\n",
       "      <td>False</td>\n",
       "      <td>False</td>\n",
       "      <td>False</td>\n",
       "    </tr>\n",
       "    <tr>\n",
       "      <th>13</th>\n",
       "      <td>False</td>\n",
       "      <td>False</td>\n",
       "      <td>False</td>\n",
       "      <td>False</td>\n",
       "      <td>False</td>\n",
       "      <td>False</td>\n",
       "    </tr>\n",
       "    <tr>\n",
       "      <th>14</th>\n",
       "      <td>False</td>\n",
       "      <td>False</td>\n",
       "      <td>False</td>\n",
       "      <td>False</td>\n",
       "      <td>False</td>\n",
       "      <td>False</td>\n",
       "    </tr>\n",
       "    <tr>\n",
       "      <th>15</th>\n",
       "      <td>False</td>\n",
       "      <td>False</td>\n",
       "      <td>False</td>\n",
       "      <td>False</td>\n",
       "      <td>False</td>\n",
       "      <td>False</td>\n",
       "    </tr>\n",
       "    <tr>\n",
       "      <th>16</th>\n",
       "      <td>False</td>\n",
       "      <td>False</td>\n",
       "      <td>False</td>\n",
       "      <td>False</td>\n",
       "      <td>False</td>\n",
       "      <td>False</td>\n",
       "    </tr>\n",
       "    <tr>\n",
       "      <th>17</th>\n",
       "      <td>False</td>\n",
       "      <td>False</td>\n",
       "      <td>False</td>\n",
       "      <td>False</td>\n",
       "      <td>False</td>\n",
       "      <td>False</td>\n",
       "    </tr>\n",
       "    <tr>\n",
       "      <th>18</th>\n",
       "      <td>False</td>\n",
       "      <td>False</td>\n",
       "      <td>False</td>\n",
       "      <td>False</td>\n",
       "      <td>False</td>\n",
       "      <td>False</td>\n",
       "    </tr>\n",
       "    <tr>\n",
       "      <th>19</th>\n",
       "      <td>False</td>\n",
       "      <td>False</td>\n",
       "      <td>False</td>\n",
       "      <td>False</td>\n",
       "      <td>False</td>\n",
       "      <td>False</td>\n",
       "    </tr>\n",
       "    <tr>\n",
       "      <th>20</th>\n",
       "      <td>False</td>\n",
       "      <td>False</td>\n",
       "      <td>False</td>\n",
       "      <td>False</td>\n",
       "      <td>False</td>\n",
       "      <td>False</td>\n",
       "    </tr>\n",
       "    <tr>\n",
       "      <th>21</th>\n",
       "      <td>False</td>\n",
       "      <td>False</td>\n",
       "      <td>False</td>\n",
       "      <td>False</td>\n",
       "      <td>False</td>\n",
       "      <td>False</td>\n",
       "    </tr>\n",
       "    <tr>\n",
       "      <th>22</th>\n",
       "      <td>False</td>\n",
       "      <td>False</td>\n",
       "      <td>False</td>\n",
       "      <td>False</td>\n",
       "      <td>False</td>\n",
       "      <td>False</td>\n",
       "    </tr>\n",
       "    <tr>\n",
       "      <th>23</th>\n",
       "      <td>False</td>\n",
       "      <td>False</td>\n",
       "      <td>False</td>\n",
       "      <td>False</td>\n",
       "      <td>False</td>\n",
       "      <td>False</td>\n",
       "    </tr>\n",
       "    <tr>\n",
       "      <th>24</th>\n",
       "      <td>False</td>\n",
       "      <td>False</td>\n",
       "      <td>False</td>\n",
       "      <td>False</td>\n",
       "      <td>False</td>\n",
       "      <td>False</td>\n",
       "    </tr>\n",
       "    <tr>\n",
       "      <th>25</th>\n",
       "      <td>False</td>\n",
       "      <td>False</td>\n",
       "      <td>False</td>\n",
       "      <td>False</td>\n",
       "      <td>False</td>\n",
       "      <td>False</td>\n",
       "    </tr>\n",
       "    <tr>\n",
       "      <th>26</th>\n",
       "      <td>False</td>\n",
       "      <td>False</td>\n",
       "      <td>False</td>\n",
       "      <td>False</td>\n",
       "      <td>False</td>\n",
       "      <td>False</td>\n",
       "    </tr>\n",
       "    <tr>\n",
       "      <th>27</th>\n",
       "      <td>False</td>\n",
       "      <td>False</td>\n",
       "      <td>False</td>\n",
       "      <td>False</td>\n",
       "      <td>False</td>\n",
       "      <td>False</td>\n",
       "    </tr>\n",
       "    <tr>\n",
       "      <th>28</th>\n",
       "      <td>False</td>\n",
       "      <td>True</td>\n",
       "      <td>True</td>\n",
       "      <td>True</td>\n",
       "      <td>True</td>\n",
       "      <td>True</td>\n",
       "    </tr>\n",
       "  </tbody>\n",
       "</table>\n",
       "</div>"
      ],
      "text/plain": [
       "    Math_Score  Reading_Score  Writing_Score  Placement_Score  Club_Join_Date  \\\n",
       "0        False          False          False            False           False   \n",
       "1        False          False          False            False           False   \n",
       "2        False          False          False            False           False   \n",
       "3        False          False          False            False           False   \n",
       "4        False          False          False            False           False   \n",
       "5        False          False          False            False           False   \n",
       "6        False          False          False            False           False   \n",
       "7        False          False          False            False           False   \n",
       "8        False          False          False            False           False   \n",
       "9        False          False          False            False           False   \n",
       "10       False          False          False            False           False   \n",
       "11       False          False          False            False           False   \n",
       "12       False          False          False            False           False   \n",
       "13       False          False          False            False           False   \n",
       "14       False          False          False            False           False   \n",
       "15       False          False          False            False           False   \n",
       "16       False          False          False            False           False   \n",
       "17       False          False          False            False           False   \n",
       "18       False          False          False            False           False   \n",
       "19       False          False          False            False           False   \n",
       "20       False          False          False            False           False   \n",
       "21       False          False          False            False           False   \n",
       "22       False          False          False            False           False   \n",
       "23       False          False          False            False           False   \n",
       "24       False          False          False            False           False   \n",
       "25       False          False          False            False           False   \n",
       "26       False          False          False            False           False   \n",
       "27       False          False          False            False           False   \n",
       "28       False           True           True             True            True   \n",
       "\n",
       "    placement_count  \n",
       "0             False  \n",
       "1             False  \n",
       "2             False  \n",
       "3             False  \n",
       "4             False  \n",
       "5             False  \n",
       "6             False  \n",
       "7             False  \n",
       "8             False  \n",
       "9             False  \n",
       "10            False  \n",
       "11            False  \n",
       "12            False  \n",
       "13            False  \n",
       "14            False  \n",
       "15            False  \n",
       "16            False  \n",
       "17            False  \n",
       "18            False  \n",
       "19            False  \n",
       "20            False  \n",
       "21            False  \n",
       "22            False  \n",
       "23            False  \n",
       "24            False  \n",
       "25            False  \n",
       "26            False  \n",
       "27            False  \n",
       "28             True  "
      ]
     },
     "execution_count": 5,
     "metadata": {},
     "output_type": "execute_result"
    }
   ],
   "source": [
    "dt1.isnull()"
   ]
  },
  {
   "cell_type": "code",
   "execution_count": 6,
   "id": "2d5ad443-57d4-4671-b074-fed1f7593835",
   "metadata": {},
   "outputs": [
    {
     "data": {
      "text/plain": [
       "<bound method DataFrame.isnull of        Math_Score  Writing_Score  Placement_Score  Club_Join_Date  \\\n",
       "count   29.000000      28.000000        28.000000       28.000000   \n",
       "mean    70.758621      74.964286        86.964286     2024.000000   \n",
       "std      6.495356      25.412861         8.500467        1.563472   \n",
       "min     60.000000      60.000000        75.000000     2022.000000   \n",
       "25%     64.000000      64.500000        79.750000     2022.000000   \n",
       "50%     73.000000      70.500000        85.500000     2024.000000   \n",
       "75%     76.000000      77.000000        95.000000     2025.000000   \n",
       "max     79.000000     200.000000       100.000000     2026.000000   \n",
       "\n",
       "       placement_count  \n",
       "count        28.000000  \n",
       "mean          2.535714  \n",
       "std           0.507875  \n",
       "min           2.000000  \n",
       "25%           2.000000  \n",
       "50%           3.000000  \n",
       "75%           3.000000  \n",
       "max           3.000000  >"
      ]
     },
     "execution_count": 6,
     "metadata": {},
     "output_type": "execute_result"
    }
   ],
   "source": [
    "dt1.describe().isnull"
   ]
  },
  {
   "cell_type": "code",
   "execution_count": 7,
   "id": "a8625f54-ba92-4e26-890e-487ea13453cc",
   "metadata": {},
   "outputs": [
    {
     "data": {
      "text/plain": [
       "Math_Score         0\n",
       "Reading_Score      1\n",
       "Writing_Score      1\n",
       "Placement_Score    1\n",
       "Club_Join_Date     1\n",
       "placement_count    1\n",
       "dtype: int64"
      ]
     },
     "execution_count": 7,
     "metadata": {},
     "output_type": "execute_result"
    }
   ],
   "source": [
    "dt1.isnull().sum()\n"
   ]
  },
  {
   "cell_type": "code",
   "execution_count": 9,
   "id": "d15e09bf-9726-43b2-8325-b002ce9dc5d2",
   "metadata": {},
   "outputs": [
    {
     "name": "stdout",
     "output_type": "stream",
     "text": [
      "Defaulting to user installation because normal site-packages is not writeable\n",
      "Requirement already satisfied: matplotlib in c:\\users\\welcome\\appdata\\roaming\\python\\python312\\site-packages (3.10.0)\n",
      "Requirement already satisfied: contourpy>=1.0.1 in c:\\users\\welcome\\appdata\\roaming\\python\\python312\\site-packages (from matplotlib) (1.3.1)\n",
      "Requirement already satisfied: cycler>=0.10 in c:\\users\\welcome\\appdata\\roaming\\python\\python312\\site-packages (from matplotlib) (0.12.1)\n",
      "Requirement already satisfied: fonttools>=4.22.0 in c:\\users\\welcome\\appdata\\roaming\\python\\python312\\site-packages (from matplotlib) (4.55.8)\n",
      "Requirement already satisfied: kiwisolver>=1.3.1 in c:\\users\\welcome\\appdata\\roaming\\python\\python312\\site-packages (from matplotlib) (1.4.8)\n",
      "Requirement already satisfied: numpy>=1.23 in c:\\users\\welcome\\appdata\\roaming\\python\\python312\\site-packages (from matplotlib) (2.2.2)\n",
      "Requirement already satisfied: packaging>=20.0 in c:\\users\\welcome\\appdata\\roaming\\python\\python312\\site-packages (from matplotlib) (24.1)\n",
      "Requirement already satisfied: pillow>=8 in c:\\users\\welcome\\appdata\\roaming\\python\\python312\\site-packages (from matplotlib) (11.1.0)\n",
      "Requirement already satisfied: pyparsing>=2.3.1 in c:\\users\\welcome\\appdata\\roaming\\python\\python312\\site-packages (from matplotlib) (3.2.1)\n",
      "Requirement already satisfied: python-dateutil>=2.7 in c:\\users\\welcome\\appdata\\roaming\\python\\python312\\site-packages (from matplotlib) (2.9.0.post0)\n",
      "Requirement already satisfied: six>=1.5 in c:\\users\\welcome\\appdata\\roaming\\python\\python312\\site-packages (from python-dateutil>=2.7->matplotlib) (1.16.0)\n",
      "Note: you may need to restart the kernel to use updated packages.\n"
     ]
    },
    {
     "name": "stderr",
     "output_type": "stream",
     "text": [
      "\n",
      "[notice] A new release of pip is available: 24.0 -> 25.0.1\n",
      "[notice] To update, run: C:\\Program Files\\Python312\\python.exe -m pip install --upgrade pip\n"
     ]
    }
   ],
   "source": [
    "pip install matplotlib"
   ]
  },
  {
   "cell_type": "code",
   "execution_count": 8,
   "id": "96420189-af29-42b3-9cd1-333ddfc2317d",
   "metadata": {},
   "outputs": [],
   "source": [
    "import matplotlib.pyplot as plt\n"
   ]
  },
  {
   "cell_type": "code",
   "execution_count": 9,
   "id": "3797fadb-3c7e-4b89-95f4-c21d5e6e9325",
   "metadata": {},
   "outputs": [
    {
     "data": {
      "image/png": "[encoded data removed]",
      "text/plain": [
       "<Figure size 640x480 with 1 Axes>"
      ]
     },
     "metadata": {},
     "output_type": "display_data"
    }
   ],
   "source": [
    "col = ['Math_Score','Writing_Score','Placement_Score','placement_count']\n",
    "dt1.boxplot(col)\n",
    "plt.show()\n"
   ]
  },
  {
   "cell_type": "code",
   "execution_count": 12,
   "id": "e8a97d65-3dee-438d-9b5e-06ae6ab1605f",
   "metadata": {},
   "outputs": [],
   "source": [
    "import numpy as np"
   ]
  },
  {
   "cell_type": "code",
   "execution_count": 13,
   "id": "f31d1429-5259-46b4-bbaa-44147e6ad441",
   "metadata": {},
   "outputs": [
    {
     "name": "stdout",
     "output_type": "stream",
     "text": [
      "(array([], dtype=int64),)\n",
      "(array([20, 26]),)\n",
      "(array([], dtype=int64),)\n"
     ]
    }
   ],
   "source": [
    "print(np.where(dt1['Math_Score']>90))\n",
    "print(np.where(dt1['Placement_Score']<25))\n",
    "print(np.where(dt1['Writing_Score']<30))"
   ]
  },
  {
   "cell_type": "code",
   "execution_count": 14,
   "id": "467b4be6-d2f6-4fa7-bef7-8c94e8da4e5c",
   "metadata": {},
   "outputs": [
    {
     "name": "stdout",
     "output_type": "stream",
     "text": [
      "Defaulting to user installation because normal site-packages is not writeable\n",
      "Requirement already satisfied: scipy in c:\\users\\welcome\\appdata\\roaming\\python\\python312\\site-packages (1.15.1)\n",
      "Requirement already satisfied: numpy<2.5,>=1.23.5 in c:\\users\\welcome\\appdata\\roaming\\python\\python312\\site-packages (from scipy) (2.2.2)\n",
      "Note: you may need to restart the kernel to use updated packages.\n"
     ]
    },
    {
     "name": "stderr",
     "output_type": "stream",
     "text": [
      "\n",
      "[notice] A new release of pip is available: 24.0 -> 25.0.1\n",
      "[notice] To update, run: C:\\Program Files\\Python312\\python.exe -m pip install --upgrade pip\n"
     ]
    }
   ],
   "source": [
    "pip install scipy"
   ]
  },
  {
   "cell_type": "code",
   "execution_count": 15,
   "id": "421d2ed3-5134-4e25-a75d-c9a74578f668",
   "metadata": {},
   "outputs": [],
   "source": [
    "from scipy import stats"
   ]
  },
  {
   "cell_type": "code",
   "execution_count": 16,
   "id": "c3135683-86cc-4e5f-94c7-9552dee607d0",
   "metadata": {},
   "outputs": [
    {
     "name": "stdout",
     "output_type": "stream",
     "text": [
      "[0.50537956 0.1216154  0.51348726 0.35673852 0.58375394 0.27025645\n",
      " 0.66212831 0.74050268 0.51348726 4.58895455 0.58375394 0.74050268\n",
      " 0.19998977 0.670236   0.58375394 0.51348726 0.19188208 0.34863082\n",
      " 0.670236   0.81887705 0.50537956 0.34863082 0.74050268 0.670236\n",
      " 0.43511289 0.27025645 0.58375394 0.58375394 0.19188208]\n"
     ]
    }
   ],
   "source": [
    "z = np.abs(stats.zscore(dt1['Math_Score']))\n",
    "print(z)"
   ]
  },
  {
   "cell_type": "code",
   "execution_count": 45,
   "id": "96a4898c-8916-4615-8553-d0b6df3b127d",
   "metadata": {},
   "outputs": [
    {
     "data": {
      "text/plain": [
       "(array([16, 28]),)"
      ]
     },
     "execution_count": 45,
     "metadata": {},
     "output_type": "execute_result"
    }
   ],
   "source": [
    "threshold = 0.18\n",
    "sample_outliers = np.where(z <threshold)\n",
    "sample_outliers"
   ]
  },
  {
   "cell_type": "code",
   "execution_count": 23,
   "id": "13036c65-839e-4d25-bad3-92fc4e6aba91",
   "metadata": {},
   "outputs": [
    {
     "data": {
      "text/plain": [
       "[10,\n",
       " 60,\n",
       " 60,\n",
       " 60,\n",
       " 62,\n",
       " 62,\n",
       " 62,\n",
       " 63,\n",
       " 64,\n",
       " 66,\n",
       " 67,\n",
       " 71,\n",
       " 71,\n",
       " 72,\n",
       " 72,\n",
       " 73,\n",
       " 73,\n",
       " 75,\n",
       " 75,\n",
       " 76,\n",
       " 76,\n",
       " 76,\n",
       " 76,\n",
       " 76,\n",
       " 77,\n",
       " 78,\n",
       " 78,\n",
       " 78,\n",
       " 79]"
      ]
     },
     "execution_count": 23,
     "metadata": {},
     "output_type": "execute_result"
    }
   ],
   "source": [
    "sorted_wscore= sorted(dt1['Math_Score'])\n",
    "sorted_wscore\n"
   ]
  },
  {
   "cell_type": "code",
   "execution_count": 24,
   "id": "14efcc96-373e-4e64-a4c9-a4b694ac6f92",
   "metadata": {},
   "outputs": [
    {
     "name": "stdout",
     "output_type": "stream",
     "text": [
      "63.0 76.0\n"
     ]
    }
   ],
   "source": [
    "q1 = np.percentile(sorted_wscore, 25)\n",
    "q3=np.percentile(sorted_wscore,75)\n",
    "print(q1,q3)"
   ]
  },
  {
   "cell_type": "code",
   "execution_count": 25,
   "id": "10c9806b-b026-4bb5-a5d7-f668461bbbe2",
   "metadata": {},
   "outputs": [],
   "source": [
    "IQR = q3-q1"
   ]
  },
  {
   "cell_type": "code",
   "execution_count": 26,
   "id": "df4bc6ad-c587-4800-9a0c-e558e44f714d",
   "metadata": {},
   "outputs": [
    {
     "name": "stdout",
     "output_type": "stream",
     "text": [
      "43.5 95.5\n"
     ]
    }
   ],
   "source": [
    "lwr_bound = q1-(1.5*IQR)\n",
    "upr_bound = q3+(1.5*IQR)\n",
    "print(lwr_bound, upr_bound)"
   ]
  },
  {
   "cell_type": "code",
   "execution_count": 27,
   "id": "7c7e711a-79db-4270-90e5-2a7dc5a6ddfa",
   "metadata": {},
   "outputs": [
    {
     "name": "stdout",
     "output_type": "stream",
     "text": [
      "[10]\n"
     ]
    }
   ],
   "source": [
    "r_outliers = []\n",
    "for i in sorted_wscore:\n",
    "    if (i<lwr_bound or i>upr_bound):\n",
    "        r_outliers.append(i)\n",
    "print(r_outliers)"
   ]
  },
  {
   "cell_type": "code",
   "execution_count": 28,
   "id": "206a6e8e-05f0-4e7c-b0cf-ac5f3effaa44",
   "metadata": {},
   "outputs": [
    {
     "data": {
      "image/png": "[encoded data removed]",
      "text/plain": [
       "<Figure size 500x500 with 1 Axes>"
      ]
     },
     "metadata": {},
     "output_type": "display_data"
    }
   ],
   "source": [
    "fig, ax = plt.subplots(figsize = (5,5))\n",
    "ax.scatter(dt1['Placement_Score'], dt1['placement_count'])\n",
    "plt.show()\n"
   ]
  },
  {
   "cell_type": "code",
   "execution_count": null,
   "id": "76b7d245-781b-4701-9b04-fa6cda2b804d",
   "metadata": {},
   "outputs": [],
   "source": []
  },
  {
   "cell_type": "code",
   "execution_count": null,
   "id": "a33e7097-856d-4baf-902c-aa2d3e199758",
   "metadata": {},
   "outputs": [],
   "source": []
  }
 ],
 "metadata": {
  "kernelspec": {
   "display_name": "Python 3 (ipykernel)",
   "language": "python",
   "name": "python3"
  },
  "language_info": {
   "codemirror_mode": {
    "name": "ipython",
    "version": 3
   },
   "file_extension": ".py",
   "mimetype": "text/x-python",
   "name": "python",
   "nbconvert_exporter": "python",
   "pygments_lexer": "ipython3",
   "version": "3.11.4"
  }
 },
 "nbformat": 4,
 "nbformat_minor": 5
}
