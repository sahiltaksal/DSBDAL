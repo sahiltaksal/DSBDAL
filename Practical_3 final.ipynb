{
 "cells": [
  {
   "cell_type": "code",
   "execution_count": 3,
   "id": "751aa8b6-8a9a-4d72-909d-0964234786e7",
   "metadata": {},
   "outputs": [],
   "source": [
    "import pandas as pd\n"
   ]
  },
  {
   "cell_type": "code",
   "execution_count": 4,
   "id": "162275e9-d7c4-4c9b-9901-338719630d6c",
   "metadata": {},
   "outputs": [
    {
     "name": "stdout",
     "output_type": "stream",
     "text": [
      "         Brand    Processor  RAM (GB)    Storage                 GPU  \\\n",
      "0        Apple  AMD Ryzen 3        64  512GB SSD     Nvidia GTX 1650   \n",
      "1        Razer  AMD Ryzen 7         4    1TB SSD     Nvidia RTX 3080   \n",
      "2         Asus     Intel i5        32    2TB SSD     Nvidia RTX 3060   \n",
      "3       Lenovo     Intel i5         4  256GB SSD     Nvidia RTX 3080   \n",
      "4        Razer     Intel i3         4  256GB SSD  AMD Radeon RX 6600   \n",
      "...        ...          ...       ...        ...                 ...   \n",
      "11763     Acer     Intel i3         4    2TB SSD     Nvidia RTX 2060   \n",
      "11764     Asus     Intel i3         4    2TB SSD  AMD Radeon RX 6800   \n",
      "11765    Razer  AMD Ryzen 9         4    2TB SSD  AMD Radeon RX 6600   \n",
      "11766  Samsung  AMD Ryzen 7        16  512GB SSD          Integrated   \n",
      "11767  Samsung     Intel i7         8  256GB SSD     Nvidia RTX 3080   \n",
      "\n",
      "       Screen Size (inch) Resolution  Battery Life (hours)  Weight (kg)  \\\n",
      "0                    17.3  2560x1440                   8.9         1.42   \n",
      "1                    14.0   1366x768                   9.4         2.57   \n",
      "2                    13.3  3840x2160                   8.5         1.74   \n",
      "3                    13.3   1366x768                  10.5         3.10   \n",
      "4                    16.0  3840x2160                   5.7         3.38   \n",
      "...                   ...        ...                   ...          ...   \n",
      "11763                17.3   1366x768                  11.5         1.58   \n",
      "11764                16.0   1366x768                   9.5         2.14   \n",
      "11765                15.6  2560x1440                   8.2         2.05   \n",
      "11766                13.3  1920x1080                   7.5         1.48   \n",
      "11767                17.3  2560x1440                   6.4         2.45   \n",
      "\n",
      "      Operating System  Price ($)  \n",
      "0              FreeDOS    3997.07  \n",
      "1                Linux    1355.78  \n",
      "2              FreeDOS    2673.07  \n",
      "3              Windows     751.17  \n",
      "4                Linux    2059.83  \n",
      "...                ...        ...  \n",
      "11763            macOS     704.82  \n",
      "11764            Linux     775.59  \n",
      "11765            Linux    2789.46  \n",
      "11766            macOS    1067.13  \n",
      "11767          FreeDOS    1579.55  \n",
      "\n",
      "[11768 rows x 11 columns]\n"
     ]
    }
   ],
   "source": [
    "df=pd.read_csv(\"laptop_prices.csv\")\n",
    "print(df)"
   ]
  },
  {
   "cell_type": "code",
   "execution_count": 5,
   "id": "f6bf68f7-8c66-4265-bf70-3a2091407c23",
   "metadata": {},
   "outputs": [
    {
     "data": {
      "text/html": [
       "<div>\n",
       "<style scoped>\n",
       "    .dataframe tbody tr th:only-of-type {\n",
       "        vertical-align: middle;\n",
       "    }\n",
       "\n",
       "    .dataframe tbody tr th {\n",
       "        vertical-align: top;\n",
       "    }\n",
       "\n",
       "    .dataframe thead th {\n",
       "        text-align: right;\n",
       "    }\n",
       "</style>\n",
       "<table border=\"1\" class=\"dataframe\">\n",
       "  <thead>\n",
       "    <tr style=\"text-align: right;\">\n",
       "      <th></th>\n",
       "      <th>RAM (GB)</th>\n",
       "      <th>Screen Size (inch)</th>\n",
       "      <th>Battery Life (hours)</th>\n",
       "      <th>Weight (kg)</th>\n",
       "      <th>Price ($)</th>\n",
       "    </tr>\n",
       "  </thead>\n",
       "  <tbody>\n",
       "    <tr>\n",
       "      <th>count</th>\n",
       "      <td>11768.000000</td>\n",
       "      <td>11768.000000</td>\n",
       "      <td>11768.000000</td>\n",
       "      <td>11768.000000</td>\n",
       "      <td>11768.000000</td>\n",
       "    </tr>\n",
       "    <tr>\n",
       "      <th>mean</th>\n",
       "      <td>24.852821</td>\n",
       "      <td>15.212305</td>\n",
       "      <td>8.027855</td>\n",
       "      <td>2.341117</td>\n",
       "      <td>2183.571608</td>\n",
       "    </tr>\n",
       "    <tr>\n",
       "      <th>std</th>\n",
       "      <td>21.762567</td>\n",
       "      <td>1.436997</td>\n",
       "      <td>2.305400</td>\n",
       "      <td>0.667921</td>\n",
       "      <td>1316.886132</td>\n",
       "    </tr>\n",
       "    <tr>\n",
       "      <th>min</th>\n",
       "      <td>4.000000</td>\n",
       "      <td>13.300000</td>\n",
       "      <td>4.000000</td>\n",
       "      <td>1.200000</td>\n",
       "      <td>279.570000</td>\n",
       "    </tr>\n",
       "    <tr>\n",
       "      <th>25%</th>\n",
       "      <td>8.000000</td>\n",
       "      <td>14.000000</td>\n",
       "      <td>6.000000</td>\n",
       "      <td>1.760000</td>\n",
       "      <td>1272.045000</td>\n",
       "    </tr>\n",
       "    <tr>\n",
       "      <th>50%</th>\n",
       "      <td>16.000000</td>\n",
       "      <td>15.600000</td>\n",
       "      <td>8.000000</td>\n",
       "      <td>2.340000</td>\n",
       "      <td>1840.865000</td>\n",
       "    </tr>\n",
       "    <tr>\n",
       "      <th>75%</th>\n",
       "      <td>32.000000</td>\n",
       "      <td>16.000000</td>\n",
       "      <td>10.000000</td>\n",
       "      <td>2.910000</td>\n",
       "      <td>2698.370000</td>\n",
       "    </tr>\n",
       "    <tr>\n",
       "      <th>max</th>\n",
       "      <td>64.000000</td>\n",
       "      <td>17.300000</td>\n",
       "      <td>12.000000</td>\n",
       "      <td>3.500000</td>\n",
       "      <td>10807.880000</td>\n",
       "    </tr>\n",
       "  </tbody>\n",
       "</table>\n",
       "</div>"
      ],
      "text/plain": [
       "           RAM (GB)  Screen Size (inch)  Battery Life (hours)   Weight (kg)  \\\n",
       "count  11768.000000        11768.000000          11768.000000  11768.000000   \n",
       "mean      24.852821           15.212305              8.027855      2.341117   \n",
       "std       21.762567            1.436997              2.305400      0.667921   \n",
       "min        4.000000           13.300000              4.000000      1.200000   \n",
       "25%        8.000000           14.000000              6.000000      1.760000   \n",
       "50%       16.000000           15.600000              8.000000      2.340000   \n",
       "75%       32.000000           16.000000             10.000000      2.910000   \n",
       "max       64.000000           17.300000             12.000000      3.500000   \n",
       "\n",
       "          Price ($)  \n",
       "count  11768.000000  \n",
       "mean    2183.571608  \n",
       "std     1316.886132  \n",
       "min      279.570000  \n",
       "25%     1272.045000  \n",
       "50%     1840.865000  \n",
       "75%     2698.370000  \n",
       "max    10807.880000  "
      ]
     },
     "execution_count": 5,
     "metadata": {},
     "output_type": "execute_result"
    }
   ],
   "source": [
    "df.describe()"
   ]
  },
  {
   "cell_type": "code",
   "execution_count": 6,
   "id": "7c06cb83-ce4f-4beb-bb4d-1159f5d8c6d0",
   "metadata": {},
   "outputs": [
    {
     "data": {
      "text/plain": [
       "Brand                                 Acer\n",
       "Processor                      AMD Ryzen 3\n",
       "RAM (GB)                                 4\n",
       "Storage                            1TB HDD\n",
       "GPU                     AMD Radeon RX 6600\n",
       "Screen Size (inch)                    13.3\n",
       "Resolution                        1366x768\n",
       "Battery Life (hours)                   4.0\n",
       "Weight (kg)                            1.2\n",
       "Operating System                   FreeDOS\n",
       "Price ($)                           279.57\n",
       "dtype: object"
      ]
     },
     "execution_count": 6,
     "metadata": {},
     "output_type": "execute_result"
    }
   ],
   "source": [
    "df.min()"
   ]
  },
  {
   "cell_type": "code",
   "execution_count": 7,
   "id": "0327565c-90aa-487f-8574-f2a56d7cbb09",
   "metadata": {},
   "outputs": [
    {
     "data": {
      "text/plain": [
       "Brand                           Samsung\n",
       "Processor                      Intel i9\n",
       "RAM (GB)                             64\n",
       "Storage                       512GB SSD\n",
       "GPU                     Nvidia RTX 3080\n",
       "Screen Size (inch)                 17.3\n",
       "Resolution                    3840x2160\n",
       "Battery Life (hours)               12.0\n",
       "Weight (kg)                         3.5\n",
       "Operating System                  macOS\n",
       "Price ($)                      10807.88\n",
       "dtype: object"
      ]
     },
     "execution_count": 7,
     "metadata": {},
     "output_type": "execute_result"
    }
   ],
   "source": [
    "df.max()"
   ]
  },
  {
   "cell_type": "code",
   "execution_count": 8,
   "id": "b6eb0ead-50d8-42cd-8905-b051abf9f539",
   "metadata": {},
   "outputs": [],
   "source": [
    "import numpy as np"
   ]
  },
  {
   "cell_type": "code",
   "execution_count": 15,
   "id": "8500ae25-6c69-4924-9796-4a595eb5f8ae",
   "metadata": {},
   "outputs": [
    {
     "data": {
      "text/plain": [
       "RAM (GB)                  24.852821\n",
       "Screen Size (inch)        15.212305\n",
       "Battery Life (hours)       8.027855\n",
       "Weight (kg)                2.341117\n",
       "Price ($)               2183.571608\n",
       "dtype: float64"
      ]
     },
     "execution_count": 15,
     "metadata": {},
     "output_type": "execute_result"
    }
   ],
   "source": [
    "df.mean(numeric_only=True)"
   ]
  },
  {
   "cell_type": "code",
   "execution_count": 18,
   "id": "165fb9ec-48dc-42f9-93ab-530ca85dcd58",
   "metadata": {},
   "outputs": [
    {
     "data": {
      "text/plain": [
       "RAM (GB)                  16.000\n",
       "Screen Size (inch)        15.600\n",
       "Battery Life (hours)       8.000\n",
       "Weight (kg)                2.340\n",
       "Price ($)               1840.865\n",
       "dtype: float64"
      ]
     },
     "execution_count": 18,
     "metadata": {},
     "output_type": "execute_result"
    }
   ],
   "source": [
    "df.median(numeric_only=True)"
   ]
  },
  {
   "cell_type": "code",
   "execution_count": 20,
   "id": "60366c3e-7ed7-4690-b6a6-b6ae410b463f",
   "metadata": {},
   "outputs": [
    {
     "data": {
      "text/html": [
       "<div>\n",
       "<style scoped>\n",
       "    .dataframe tbody tr th:only-of-type {\n",
       "        vertical-align: middle;\n",
       "    }\n",
       "\n",
       "    .dataframe tbody tr th {\n",
       "        vertical-align: top;\n",
       "    }\n",
       "\n",
       "    .dataframe thead th {\n",
       "        text-align: right;\n",
       "    }\n",
       "</style>\n",
       "<table border=\"1\" class=\"dataframe\">\n",
       "  <thead>\n",
       "    <tr style=\"text-align: right;\">\n",
       "      <th></th>\n",
       "      <th>RAM (GB)</th>\n",
       "      <th>Screen Size (inch)</th>\n",
       "      <th>Battery Life (hours)</th>\n",
       "      <th>Weight (kg)</th>\n",
       "      <th>Price ($)</th>\n",
       "    </tr>\n",
       "  </thead>\n",
       "  <tbody>\n",
       "    <tr>\n",
       "      <th>0</th>\n",
       "      <td>32.0</td>\n",
       "      <td>14.0</td>\n",
       "      <td>11.3</td>\n",
       "      <td>3.4</td>\n",
       "      <td>1278.94</td>\n",
       "    </tr>\n",
       "    <tr>\n",
       "      <th>1</th>\n",
       "      <td>NaN</td>\n",
       "      <td>NaN</td>\n",
       "      <td>NaN</td>\n",
       "      <td>NaN</td>\n",
       "      <td>2136.00</td>\n",
       "    </tr>\n",
       "  </tbody>\n",
       "</table>\n",
       "</div>"
      ],
      "text/plain": [
       "   RAM (GB)  Screen Size (inch)  Battery Life (hours)  Weight (kg)  Price ($)\n",
       "0      32.0                14.0                  11.3          3.4    1278.94\n",
       "1       NaN                 NaN                   NaN          NaN    2136.00"
      ]
     },
     "execution_count": 20,
     "metadata": {},
     "output_type": "execute_result"
    }
   ],
   "source": [
    "df.mode(numeric_only=True)"
   ]
  },
  {
   "cell_type": "code",
   "execution_count": 22,
   "id": "d83f8b11-77c7-4050-ac74-0492a6ded103",
   "metadata": {},
   "outputs": [
    {
     "data": {
      "text/plain": [
       "RAM (GB)                  21.762567\n",
       "Screen Size (inch)         1.436997\n",
       "Battery Life (hours)       2.305400\n",
       "Weight (kg)                0.667921\n",
       "Price ($)               1316.886132\n",
       "dtype: float64"
      ]
     },
     "execution_count": 22,
     "metadata": {},
     "output_type": "execute_result"
    }
   ],
   "source": [
    "df.std(numeric_only=True)"
   ]
  },
  {
   "cell_type": "code",
   "execution_count": 24,
   "id": "620b3828-6e2f-4049-b1a9-23762cec62a9",
   "metadata": {},
   "outputs": [
    {
     "data": {
      "text/plain": [
       "RAM (GB)\n",
       "4     1387.705468\n",
       "8     1551.721969\n",
       "16    1855.332740\n",
       "32    2486.663017\n",
       "64    3625.575197\n",
       "Name: Price ($), dtype: float64"
      ]
     },
     "execution_count": 24,
     "metadata": {},
     "output_type": "execute_result"
    }
   ],
   "source": [
    "df.groupby(['RAM (GB)'])['Price ($)'].mean()"
   ]
  },
  {
   "cell_type": "code",
   "execution_count": 25,
   "id": "817d8666-86d8-47a8-a2da-29b4c7ac4f70",
   "metadata": {},
   "outputs": [],
   "source": [
    "df_u=df.rename(columns= {'RAM (GB)':'RAM'},inplace=False)"
   ]
  },
  {
   "cell_type": "code",
   "execution_count": 29,
   "id": "04cbc739-23ed-483a-a99c-ea64b93b8a6a",
   "metadata": {},
   "outputs": [
    {
     "data": {
      "text/plain": [
       "np.float64(24.852821210061183)"
      ]
     },
     "execution_count": 29,
     "metadata": {},
     "output_type": "execute_result"
    }
   ],
   "source": [
    "df_u['RAM'].mean()"
   ]
  },
  {
   "cell_type": "code",
   "execution_count": 30,
   "id": "e0d5cb1f-0470-4584-9116-3fc7cabcdcbb",
   "metadata": {},
   "outputs": [
    {
     "data": {
      "text/plain": [
       "Price ($)\n",
       "279.57       4.0\n",
       "332.71       4.0\n",
       "342.89       4.0\n",
       "354.84       4.0\n",
       "356.10       4.0\n",
       "            ... \n",
       "10646.06    64.0\n",
       "10735.12    64.0\n",
       "10757.56    64.0\n",
       "10774.82    64.0\n",
       "10807.88    64.0\n",
       "Name: RAM, Length: 11558, dtype: float64"
      ]
     },
     "execution_count": 30,
     "metadata": {},
     "output_type": "execute_result"
    }
   ],
   "source": [
    "df_u.groupby(['Price ($)']).RAM.mean()"
   ]
  },
  {
   "cell_type": "code",
   "execution_count": 34,
   "id": "96411921-3db6-48d9-9a36-8c4c628ccc94",
   "metadata": {},
   "outputs": [
    {
     "name": "stdout",
     "output_type": "stream",
     "text": [
      "Defaulting to user installation because normal site-packages is not writeable\n",
      "Collecting scikit-learn\n",
      "  Using cached scikit_learn-1.6.1-cp312-cp312-win_amd64.whl.metadata (15 kB)\n",
      "Requirement already satisfied: numpy>=1.19.5 in c:\\users\\welcome\\appdata\\roaming\\python\\python312\\site-packages (from scikit-learn) (2.2.2)\n",
      "Requirement already satisfied: scipy>=1.6.0 in c:\\users\\welcome\\appdata\\roaming\\python\\python312\\site-packages (from scikit-learn) (1.15.1)\n",
      "Collecting joblib>=1.2.0 (from scikit-learn)\n",
      "  Using cached joblib-1.4.2-py3-none-any.whl.metadata (5.4 kB)\n",
      "Collecting threadpoolctl>=3.1.0 (from scikit-learn)\n",
      "  Using cached threadpoolctl-3.5.0-py3-none-any.whl.metadata (13 kB)\n",
      "Using cached scikit_learn-1.6.1-cp312-cp312-win_amd64.whl (11.1 MB)\n",
      "Using cached joblib-1.4.2-py3-none-any.whl (301 kB)\n",
      "Using cached threadpoolctl-3.5.0-py3-none-any.whl (18 kB)\n",
      "Installing collected packages: threadpoolctl, joblib, scikit-learn\n",
      "Successfully installed joblib-1.4.2 scikit-learn-1.6.1 threadpoolctl-3.5.0\n",
      "Note: you may need to restart the kernel to use updated packages.\n"
     ]
    },
    {
     "name": "stderr",
     "output_type": "stream",
     "text": [
      "\n",
      "[notice] A new release of pip is available: 24.0 -> 25.0\n",
      "[notice] To update, run: C:\\Program Files\\Python312\\python.exe -m pip install --upgrade pip\n"
     ]
    }
   ],
   "source": [
    "pip install scikit-learn"
   ]
  },
  {
   "cell_type": "code",
   "execution_count": 35,
   "id": "f62d1c31-32bf-43b4-80b6-fcb49f176db8",
   "metadata": {},
   "outputs": [],
   "source": [
    "from sklearn import preprocessing"
   ]
  },
  {
   "cell_type": "code",
   "execution_count": 37,
   "id": "a715a346-ab50-4af7-9ca5-dd45609ff627",
   "metadata": {},
   "outputs": [
    {
     "data": {
      "text/html": [
       "<div>\n",
       "<style scoped>\n",
       "    .dataframe tbody tr th:only-of-type {\n",
       "        vertical-align: middle;\n",
       "    }\n",
       "\n",
       "    .dataframe tbody tr th {\n",
       "        vertical-align: top;\n",
       "    }\n",
       "\n",
       "    .dataframe thead th {\n",
       "        text-align: right;\n",
       "    }\n",
       "</style>\n",
       "<table border=\"1\" class=\"dataframe\">\n",
       "  <thead>\n",
       "    <tr style=\"text-align: right;\">\n",
       "      <th></th>\n",
       "      <th>0</th>\n",
       "      <th>1</th>\n",
       "      <th>2</th>\n",
       "      <th>3</th>\n",
       "      <th>4</th>\n",
       "    </tr>\n",
       "  </thead>\n",
       "  <tbody>\n",
       "    <tr>\n",
       "      <th>0</th>\n",
       "      <td>0.0</td>\n",
       "      <td>0.0</td>\n",
       "      <td>0.0</td>\n",
       "      <td>0.0</td>\n",
       "      <td>1.0</td>\n",
       "    </tr>\n",
       "    <tr>\n",
       "      <th>1</th>\n",
       "      <td>1.0</td>\n",
       "      <td>0.0</td>\n",
       "      <td>0.0</td>\n",
       "      <td>0.0</td>\n",
       "      <td>0.0</td>\n",
       "    </tr>\n",
       "    <tr>\n",
       "      <th>2</th>\n",
       "      <td>0.0</td>\n",
       "      <td>0.0</td>\n",
       "      <td>0.0</td>\n",
       "      <td>1.0</td>\n",
       "      <td>0.0</td>\n",
       "    </tr>\n",
       "    <tr>\n",
       "      <th>3</th>\n",
       "      <td>1.0</td>\n",
       "      <td>0.0</td>\n",
       "      <td>0.0</td>\n",
       "      <td>0.0</td>\n",
       "      <td>0.0</td>\n",
       "    </tr>\n",
       "    <tr>\n",
       "      <th>4</th>\n",
       "      <td>1.0</td>\n",
       "      <td>0.0</td>\n",
       "      <td>0.0</td>\n",
       "      <td>0.0</td>\n",
       "      <td>0.0</td>\n",
       "    </tr>\n",
       "    <tr>\n",
       "      <th>...</th>\n",
       "      <td>...</td>\n",
       "      <td>...</td>\n",
       "      <td>...</td>\n",
       "      <td>...</td>\n",
       "      <td>...</td>\n",
       "    </tr>\n",
       "    <tr>\n",
       "      <th>11763</th>\n",
       "      <td>1.0</td>\n",
       "      <td>0.0</td>\n",
       "      <td>0.0</td>\n",
       "      <td>0.0</td>\n",
       "      <td>0.0</td>\n",
       "    </tr>\n",
       "    <tr>\n",
       "      <th>11764</th>\n",
       "      <td>1.0</td>\n",
       "      <td>0.0</td>\n",
       "      <td>0.0</td>\n",
       "      <td>0.0</td>\n",
       "      <td>0.0</td>\n",
       "    </tr>\n",
       "    <tr>\n",
       "      <th>11765</th>\n",
       "      <td>1.0</td>\n",
       "      <td>0.0</td>\n",
       "      <td>0.0</td>\n",
       "      <td>0.0</td>\n",
       "      <td>0.0</td>\n",
       "    </tr>\n",
       "    <tr>\n",
       "      <th>11766</th>\n",
       "      <td>0.0</td>\n",
       "      <td>0.0</td>\n",
       "      <td>1.0</td>\n",
       "      <td>0.0</td>\n",
       "      <td>0.0</td>\n",
       "    </tr>\n",
       "    <tr>\n",
       "      <th>11767</th>\n",
       "      <td>0.0</td>\n",
       "      <td>1.0</td>\n",
       "      <td>0.0</td>\n",
       "      <td>0.0</td>\n",
       "      <td>0.0</td>\n",
       "    </tr>\n",
       "  </tbody>\n",
       "</table>\n",
       "<p>11768 rows × 5 columns</p>\n",
       "</div>"
      ],
      "text/plain": [
       "         0    1    2    3    4\n",
       "0      0.0  0.0  0.0  0.0  1.0\n",
       "1      1.0  0.0  0.0  0.0  0.0\n",
       "2      0.0  0.0  0.0  1.0  0.0\n",
       "3      1.0  0.0  0.0  0.0  0.0\n",
       "4      1.0  0.0  0.0  0.0  0.0\n",
       "...    ...  ...  ...  ...  ...\n",
       "11763  1.0  0.0  0.0  0.0  0.0\n",
       "11764  1.0  0.0  0.0  0.0  0.0\n",
       "11765  1.0  0.0  0.0  0.0  0.0\n",
       "11766  0.0  0.0  1.0  0.0  0.0\n",
       "11767  0.0  1.0  0.0  0.0  0.0\n",
       "\n",
       "[11768 rows x 5 columns]"
      ]
     },
     "execution_count": 37,
     "metadata": {},
     "output_type": "execute_result"
    }
   ],
   "source": [
    "enc = preprocessing.OneHotEncoder()\n",
    "enc_df = pd.DataFrame(enc.fit_transform(df_u[['RAM']]).toarray())\n",
    "enc_df"
   ]
  },
  {
   "cell_type": "code",
   "execution_count": 38,
   "id": "e2ed3cba-5226-4198-a9b9-af0589e85a1c",
   "metadata": {},
   "outputs": [
    {
     "name": "stdout",
     "output_type": "stream",
     "text": [
      "0.8842650453384933\n"
     ]
    }
   ],
   "source": [
    "skewness = df_u['RAM'].skew()\n",
    "print(skewness)"
   ]
  },
  {
   "cell_type": "code",
   "execution_count": null,
   "id": "4b9ebb3d-df12-4333-ba57-a410945260c5",
   "metadata": {},
   "outputs": [],
   "source": []
  }
 ],
 "metadata": {
  "kernelspec": {
   "display_name": "Python 3 (ipykernel)",
   "language": "python",
   "name": "python3"
  },
  "language_info": {
   "codemirror_mode": {
    "name": "ipython",
    "version": 3
   },
   "file_extension": ".py",
   "mimetype": "text/x-python",
   "name": "python",
   "nbconvert_exporter": "python",
   "pygments_lexer": "ipython3",
   "version": "3.11.4"
  }
 },
 "nbformat": 4,
 "nbformat_minor": 5
}
