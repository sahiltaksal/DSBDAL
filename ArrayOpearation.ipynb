{
 "cells": [
  {
   "cell_type": "code",
   "execution_count": 1,
   "id": "d546438f",
   "metadata": {},
   "outputs": [
    {
     "name": "stdout",
     "output_type": "stream",
     "text": [
      "have a nice dayyyy\n"
     ]
    }
   ],
   "source": [
    "print(\"have a nice dayyyy\")"
   ]
  },
  {
   "cell_type": "code",
   "execution_count": 9,
   "id": "0b3d70ac",
   "metadata": {},
   "outputs": [
    {
     "name": "stdout",
     "output_type": "stream",
     "text": [
      "[[85 90 78 92 88]\n",
      " [72 75 80 68 74]\n",
      " [95 88 92 96 90]\n",
      " [60 65 70 58 62]\n",
      " [88 84 86 89 87]]\n"
     ]
    }
   ],
   "source": [
    "import numpy as np\n",
    "scores = np.array([[85, 90, 78, 92, 88],  \n",
    "                    [72, 75, 80, 68, 74],   \n",
    "                    [95, 88, 92, 96, 90],   \n",
    "                    [60, 65, 70, 58, 62], \n",
    "                    [88, 84, 86, 89, 87]])\n",
    "print(scores)"
   ]
  },
  {
   "cell_type": "code",
   "execution_count": 12,
   "id": "e39b42d6",
   "metadata": {},
   "outputs": [
    {
     "name": "stdout",
     "output_type": "stream",
     "text": [
      "[95 88 92 96 90]\n"
     ]
    }
   ],
   "source": [
    "#1.Retrieve the scores of Student 3 for all subjects\n",
    "marks= scores[2]\n",
    "print(marks)"
   ]
  },
  {
   "cell_type": "code",
   "execution_count": 14,
   "id": "0a105edd",
   "metadata": {},
   "outputs": [
    {
     "name": "stdout",
     "output_type": "stream",
     "text": [
      "[90 75 88 65 84]\n"
     ]
    }
   ],
   "source": [
    "#2.Retrieve the scores for Subject 2 (column 2) across all students.\n",
    "sub2= scores[:,1]\n",
    "print(sub2)"
   ]
  },
  {
   "cell_type": "code",
   "execution_count": 17,
   "id": "6466eaf1",
   "metadata": {},
   "outputs": [
    {
     "name": "stdout",
     "output_type": "stream",
     "text": [
      "[[85 90]\n",
      " [72 75]\n",
      " [95 88]]\n"
     ]
    }
   ],
   "source": [
    "#3.Extract the scores of the first 3 students for the first 2 subjects.Extract the scores of the last 2 students for the last 3 subjects. \n",
    "marks=scores[:3 ,:2]\n",
    "print(marks    )"
   ]
  },
  {
   "cell_type": "code",
   "execution_count": 20,
   "id": "361e4598",
   "metadata": {},
   "outputs": [
    {
     "name": "stdout",
     "output_type": "stream",
     "text": [
      "[[ 90  95  83  97  93]\n",
      " [ 77  80  85  73  79]\n",
      " [100  93  97 101  95]\n",
      " [ 65  70  75  63  67]\n",
      " [ 93  89  91  94  92]]\n"
     ]
    }
   ],
   "source": [
    "#4.Add 5 bonus marks to all scores.\n",
    "bonus= scores+5\n",
    "print(bonus)"
   ]
  },
  {
   "cell_type": "code",
   "execution_count": 23,
   "id": "7dcd984b",
   "metadata": {},
   "outputs": [
    {
     "name": "stdout",
     "output_type": "stream",
     "text": [
      "[[85 90 78 82 88]\n",
      " [72 75 80 58 74]\n",
      " [95 88 92 86 90]\n",
      " [60 65 70 48 62]\n",
      " [88 84 86 79 87]]\n"
     ]
    }
   ],
   "source": [
    "#5.Subtract 10 marks from scores of Subject 4 for all students.\n",
    "scores[:, 3] -= 10\n",
    "print(scores)"
   ]
  },
  {
   "cell_type": "code",
   "execution_count": 24,
   "id": "b7ab61ff",
   "metadata": {},
   "outputs": [
    {
     "name": "stdout",
     "output_type": "stream",
     "text": [
      "[84.6 71.8 90.2 61.  84.8]\n"
     ]
    }
   ],
   "source": [
    "#6.Calculate the percentage scores of each student assuming each subject is out of 100. \n",
    "percentage = np.sum(scores, axis=1) / 5\n",
    "print(percentage)\n"
   ]
  },
  {
   "cell_type": "code",
   "execution_count": 25,
   "id": "a770eda4",
   "metadata": {},
   "outputs": [
    {
     "name": "stdout",
     "output_type": "stream",
     "text": [
      "[84.6 71.8 90.2 61.  84.8]\n"
     ]
    }
   ],
   "source": [
    "# 7.Calculate the average score for each student across all subjects. \n",
    "average = np.mean(scores, axis=1)\n",
    "print(average )\n"
   ]
  },
  {
   "cell_type": "code",
   "execution_count": 29,
   "id": "52178837",
   "metadata": {},
   "outputs": [
    {
     "name": "stdout",
     "output_type": "stream",
     "text": [
      "[423 359 451 305 424]\n"
     ]
    }
   ],
   "source": [
    "#8.Find the total marks scored by each student. \n",
    "total = np.sum(scores, axis =1)\n",
    "print(total)"
   ]
  },
  {
   "cell_type": "code",
   "execution_count": 30,
   "id": "fc52479c",
   "metadata": {},
   "outputs": [
    {
     "name": "stdout",
     "output_type": "stream",
     "text": [
      "95\n"
     ]
    }
   ],
   "source": [
    "#9.Identify the highest score in the entire array. \n",
    "highest = np.max(scores)\n",
    "print(highest)\n"
   ]
  },
  {
   "cell_type": "code",
   "execution_count": 31,
   "id": "0c31571a",
   "metadata": {},
   "outputs": [
    {
     "name": "stdout",
     "output_type": "stream",
     "text": [
      "[80.  80.4 81.2 70.6 80.2]\n"
     ]
    }
   ],
   "source": [
    "#  10.Determine the average score for each subject\n",
    "average_scores_subject = np.mean(scores, axis=0)\n",
    "print(average_scores_subject)\n"
   ]
  },
  {
   "cell_type": "code",
   "execution_count": 32,
   "id": "4c1d8f73",
   "metadata": {},
   "outputs": [
    {
     "name": "stdout",
     "output_type": "stream",
     "text": [
      "3\n"
     ]
    }
   ],
   "source": [
    "# 11.Find the student with the lowest average score.\n",
    "lowest_avg_score = np.argmin(np.mean(scores, axis=1))\n",
    "print(lowest_avg_score)\n"
   ]
  },
  {
   "cell_type": "code",
   "execution_count": null,
   "id": "d5b1bcbe",
   "metadata": {},
   "outputs": [],
   "source": []
  }
 ],
 "metadata": {
  "kernelspec": {
   "display_name": "Python 3 (ipykernel)",
   "language": "python",
   "name": "python3"
  },
  "language_info": {
   "codemirror_mode": {
    "name": "ipython",
    "version": 3
   },
   "file_extension": ".py",
   "mimetype": "text/x-python",
   "name": "python",
   "nbconvert_exporter": "python",
   "pygments_lexer": "ipython3",
   "version": "3.11.4"
  }
 },
 "nbformat": 4,
 "nbformat_minor": 5
}
