{
 "cells": [
  {
   "cell_type": "code",
   "execution_count": 1,
   "id": "99d33391",
   "metadata": {},
   "outputs": [
    {
     "name": "stdout",
     "output_type": "stream",
     "text": [
      "roll no is: 101name is : rajesh\n"
     ]
    }
   ],
   "source": [
    "rollno =101;\n",
    "name = \"rajesh\"\n",
    "print(\"roll no is:\",rollno, end=\"\")\n",
    "print(\"name is :\",name)"
   ]
  },
  {
   "cell_type": "code",
   "execution_count": 14,
   "id": "841179be",
   "metadata": {},
   "outputs": [
    {
     "name": "stdout",
     "output_type": "stream",
     "text": [
      "['a', 'x', 'y', 'z', ['d', 'e', 'h', 'f'], 'p', 'q', 'r', 'g']\n"
     ]
    }
   ],
   "source": [
    "x = ['a', 'x', 'y', 'z', ['d', 'e', 'f'], 'p', 'q', 'r']\n",
    "x.append('g')\n",
    "x[4].insert(2, 'h') \n",
    "\n",
    "print(x)\n"
   ]
  },
  {
   "cell_type": "code",
   "execution_count": 17,
   "id": "301b6786",
   "metadata": {},
   "outputs": [
    {
     "name": "stdout",
     "output_type": "stream",
     "text": [
      "{'rollno': 101, 'name': 'sahil'}\n",
      "{'rollno': 101, 'name': 'sahil', 'fess': 400}\n"
     ]
    }
   ],
   "source": [
    "student={'rollno':101,'name':'sahil'}\n",
    "print(student)\n",
    "student['fess']=400;\n",
    "print(student)"
   ]
  },
  {
   "cell_type": "code",
   "execution_count": 19,
   "id": "562aaa89",
   "metadata": {},
   "outputs": [
    {
     "name": "stdout",
     "output_type": "stream",
     "text": [
      "{2, 3, 4, 5, 8}\n"
     ]
    }
   ],
   "source": [
    "a={2,3,4,5}\n",
    "a.add(2)\n",
    "a.add(8)\n",
    "print(a)"
   ]
  },
  {
   "cell_type": "code",
   "execution_count": 20,
   "id": "a8812249",
   "metadata": {},
   "outputs": [
    {
     "name": "stdout",
     "output_type": "stream",
     "text": [
      "(2, 3, 4, 6, 7)\n"
     ]
    }
   ],
   "source": [
    "x=(2,3,4,6)\n",
    "x=list(x)\n",
    "x.append(7)\n",
    "x=tuple(x)\n",
    "print(x)"
   ]
  },
  {
   "cell_type": "code",
   "execution_count": 22,
   "id": "28b673e1",
   "metadata": {},
   "outputs": [
    {
     "name": "stdout",
     "output_type": "stream",
     "text": [
      "[100 200 300 400 500]\n",
      "<class 'numpy.ndarray'>\n"
     ]
    }
   ],
   "source": [
    "import numpy as np\n",
    "\n",
    "a = [100,200,300,400,500]\n",
    "\n",
    "arr = np.array(a)\n",
    "\n",
    "print(arr)\n",
    "print(type(arr))"
   ]
  },
  {
   "cell_type": "code",
   "execution_count": 1,
   "id": "a12d966c",
   "metadata": {},
   "outputs": [
    {
     "name": "stdout",
     "output_type": "stream",
     "text": [
      "[300 400 500 600]\n"
     ]
    }
   ],
   "source": [
    "import numpy as np\n",
    "sales_january = np.array([300, 400])\n",
    "sales_february = np.array([500, 600])\n",
    "Answer=np.concatenate((sales_january,sales_february))\n",
    "print(Answer)"
   ]
  },
  {
   "cell_type": "code",
   "execution_count": 2,
   "id": "9201ebf6",
   "metadata": {},
   "outputs": [
    {
     "name": "stdout",
     "output_type": "stream",
     "text": [
      "[[1 2 3]\n",
      " [4 5 6]]\n"
     ]
    }
   ],
   "source": [
    "import numpy as np\n",
    "data = np.array([1, 2, 3, 4, 5, 6])\n",
    "Reshap=data.reshape(2,3)\n",
    "print(Reshap)\n"
   ]
  },
  {
   "cell_type": "code",
   "execution_count": 3,
   "id": "2e0b5c08",
   "metadata": {},
   "outputs": [
    {
     "name": "stdout",
     "output_type": "stream",
     "text": [
      "[80 90 85 95]\n"
     ]
    }
   ],
   "source": [
    "import numpy as np\n",
    "scores = np.array([[80, 90], [85, 95]])\n",
    "reshaped_scores = scores.reshape(-1)\n",
    "print(reshaped_scores)\n"
   ]
  },
  {
   "cell_type": "code",
   "execution_count": null,
   "id": "7c5170af",
   "metadata": {},
   "outputs": [],
   "source": []
  }
 ],
 "metadata": {
  "kernelspec": {
   "display_name": "Python 3 (ipykernel)",
   "language": "python",
   "name": "python3"
  },
  "language_info": {
   "codemirror_mode": {
    "name": "ipython",
    "version": 3
   },
   "file_extension": ".py",
   "mimetype": "text/x-python",
   "name": "python",
   "nbconvert_exporter": "python",
   "pygments_lexer": "ipython3",
   "version": "3.11.4"
  }
 },
 "nbformat": 4,
 "nbformat_minor": 5
}
